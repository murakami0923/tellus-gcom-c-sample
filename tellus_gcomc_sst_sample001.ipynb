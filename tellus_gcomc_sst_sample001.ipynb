{
  "nbformat": 4,
  "nbformat_minor": 0,
  "metadata": {
    "colab": {
      "provenance": []
    },
    "kernelspec": {
      "name": "python3",
      "display_name": "Python 3"
    },
    "language_info": {
      "name": "python"
    }
  },
  "cells": [
    {
      "cell_type": "markdown",
      "source": [
        "# TellusからGCOM-C/SSTで海面温度を取得し、シーンのファイルをダウンロード\n",
        "- ダウンロードする年月を、それぞれリストで定義\n",
        "- ダウンロードする拡張子をリストで定義\n",
        "- 年月のフォルダ内にダウンロード\n",
        "- すべてダウンロードしたらZipで圧縮"
      ],
      "metadata": {
        "id": "9wgQD1xoApg3"
      }
    },
    {
      "cell_type": "markdown",
      "source": [
        "## 必要なパッケージをインポート"
      ],
      "metadata": {
        "id": "5FwiLAOfBRR8"
      }
    },
    {
      "cell_type": "code",
      "source": [
        "import requests\n",
        "import json\n",
        "import os\n",
        "import pandas as pd\n",
        "import shutil\n",
        "import datetime\n",
        "import time"
      ],
      "metadata": {
        "id": "L3BElr-_zASz"
      },
      "execution_count": null,
      "outputs": []
    },
    {
      "cell_type": "markdown",
      "source": [
        "## 各設定を定数で定義"
      ],
      "metadata": {
        "id": "9EOabLYUBUUw"
      }
    },
    {
      "cell_type": "code",
      "source": [
        "# APIトークン\n",
        "TOKEN = 'ここにAPIトークンを入力'"
      ],
      "metadata": {
        "id": "ThnWMI_JzHD7"
      },
      "execution_count": null,
      "outputs": []
    },
    {
      "cell_type": "code",
      "source": [
        "headers = {\n",
        "    \"Authorization\": \"Bearer \" + TOKEN,\n",
        "    'content-type': 'application/json'\n",
        "}"
      ],
      "metadata": {
        "id": "LocpOtejzU4r"
      },
      "execution_count": null,
      "outputs": []
    },
    {
      "cell_type": "code",
      "source": [
        "URL_BASE = 'https://www.tellusxdp.com/api/traveler/v1'"
      ],
      "metadata": {
        "id": "f8GxZS_CRiPC"
      },
      "execution_count": null,
      "outputs": []
    },
    {
      "cell_type": "code",
      "source": [
        "# GCOM-C/SST 8日平均 （高次プロダクト）\n",
        "DATASET_ID = '000eb404-1f69-4735-a966-2f3115269ee3'"
      ],
      "metadata": {
        "id": "-rkIcMCLPEf9"
      },
      "execution_count": null,
      "outputs": []
    },
    {
      "cell_type": "code",
      "source": [
        "# ダウンロードする月\n",
        "MONTHS = [\n",
        "    6,\n",
        "    7,\n",
        "]"
      ],
      "metadata": {
        "id": "waV_B8LsSWKl"
      },
      "execution_count": null,
      "outputs": []
    },
    {
      "cell_type": "code",
      "source": [
        "# ダウンロードする年\n",
        "YEARS = [\n",
        "    2019,\n",
        "    2021,\n",
        "    2023,\n",
        "]"
      ],
      "metadata": {
        "id": "v_UUoN3SScRX"
      },
      "execution_count": null,
      "outputs": []
    },
    {
      "cell_type": "code",
      "source": [
        "# ダウンロードする拡張子\n",
        "# DL_EXTS = ['.tif',]\n",
        "DL_EXTS = ['.tif', 'h5',] # h5ファイルもダウンロードする場合はこちら"
      ],
      "metadata": {
        "id": "eRUhuWL0WPcc"
      },
      "execution_count": null,
      "outputs": []
    },
    {
      "cell_type": "code",
      "source": [
        "# ダウンロード先ディレクトリのベース\n",
        "DL_DIR_BASE = 'gcom-c-sst'"
      ],
      "metadata": {
        "id": "QuB6rblvF0sF"
      },
      "execution_count": null,
      "outputs": []
    },
    {
      "cell_type": "code",
      "source": [
        "# ダウンロード先ディレクトリ（ベースに日時を付与）\n",
        "now = datetime.datetime.now()\n",
        "dt = now.strftime('%Y%m%d-%H%M%S')\n",
        "dl_dir = '{}_{}'.format(DL_DIR_BASE, dt,)"
      ],
      "metadata": {
        "id": "kSGvB2k5UVX6"
      },
      "execution_count": null,
      "outputs": []
    },
    {
      "cell_type": "code",
      "source": [
        "# 連続してAPIを実行する際にスリープする秒数\n",
        "API_SLEEP_SEC = 2"
      ],
      "metadata": {
        "id": "txsuiJ4zD9ya"
      },
      "execution_count": null,
      "outputs": []
    },
    {
      "cell_type": "markdown",
      "source": [
        "## 海面温度（GCOM-C/SST 8日平均）のデータセットを取得"
      ],
      "metadata": {
        "id": "UeNQzqlk1t--"
      }
    },
    {
      "cell_type": "code",
      "source": [
        "url = '{}/datasets/{}'.format(URL_BASE, DATASET_ID,)"
      ],
      "metadata": {
        "id": "HYvSeyPh1FJM"
      },
      "execution_count": null,
      "outputs": []
    },
    {
      "cell_type": "code",
      "source": [
        "query = {}"
      ],
      "metadata": {
        "id": "92WZPDHa1Jbk"
      },
      "execution_count": null,
      "outputs": []
    },
    {
      "cell_type": "code",
      "source": [
        "payloads = {\n",
        "    'query': query,\n",
        "}"
      ],
      "metadata": {
        "id": "_XEIpmll1VXM"
      },
      "execution_count": null,
      "outputs": []
    },
    {
      "cell_type": "code",
      "source": [
        "res = requests.get(url, headers=headers, data=json.dumps(payloads))"
      ],
      "metadata": {
        "id": "6ssptxg61Wtr"
      },
      "execution_count": null,
      "outputs": []
    },
    {
      "cell_type": "code",
      "source": [
        "res.json()"
      ],
      "metadata": {
        "id": "ogaA_Tg81bqG"
      },
      "execution_count": null,
      "outputs": []
    },
    {
      "cell_type": "markdown",
      "source": [
        "## シーン検索"
      ],
      "metadata": {
        "id": "uO0XV8KP315O"
      }
    },
    {
      "cell_type": "code",
      "source": [
        "url = '{}/datasets/{}/data-search/'.format(URL_BASE, DATASET_ID,)"
      ],
      "metadata": {
        "id": "pOluN3JP315V"
      },
      "execution_count": null,
      "outputs": []
    },
    {
      "cell_type": "code",
      "source": [
        "data_list = []\n",
        "\n",
        "for year in YEARS:\n",
        "    for month in MONTHS:\n",
        "        start_datetime = '{}-{}-01T00:00:00Z'.format(year, str(month).zfill(2),)\n",
        "        end_datetime = '{}-{}-01T00:00:00Z'.format(year, str(month + 1).zfill(2),)\n",
        "\n",
        "        # print(start_datetime, end_datetime,)\n",
        "\n",
        "        query = {\n",
        "            'start_datetime': {\n",
        "                'gte': start_datetime,\n",
        "            },\n",
        "            'end_datetime': {\n",
        "                'lt': end_datetime,\n",
        "            },\n",
        "        }\n",
        "\n",
        "        payloads = {\n",
        "            'query': query,\n",
        "        }\n",
        "\n",
        "        res = requests.post(url, headers=headers, data=json.dumps(payloads))\n",
        "        j = res.json()\n",
        "        features = j['features']\n",
        "\n",
        "        for feature in features:\n",
        "            data_id = feature['id']\n",
        "            data_list.append((str(year), str(month).zfill(2), data_id,))"
      ],
      "metadata": {
        "id": "H4-zAp8kS-wa"
      },
      "execution_count": null,
      "outputs": []
    },
    {
      "cell_type": "code",
      "source": [
        "data_list[:5]"
      ],
      "metadata": {
        "id": "TUNnEpZkVgjH"
      },
      "execution_count": null,
      "outputs": []
    },
    {
      "cell_type": "markdown",
      "source": [
        "## ファイル情報一覧"
      ],
      "metadata": {
        "id": "57c33K8uC1Yq"
      }
    },
    {
      "cell_type": "code",
      "source": [
        "download_list = []\n",
        "\n",
        "for year, month, data_id in data_list:\n",
        "    url = 'https://www.tellusxdp.com/api/traveler/v1/datasets/{}/data/{}/files/'.format(DATASET_ID, data_id,)\n",
        "\n",
        "    query = {}\n",
        "    payloads = {\n",
        "        'query': query,\n",
        "    }\n",
        "\n",
        "    res = requests.get(url, headers=headers, data=json.dumps(payloads))\n",
        "\n",
        "    for f in res.json()['results']:\n",
        "        file_name = f['name']\n",
        "        file_id = f['id']\n",
        "\n",
        "        for ext in DL_EXTS:\n",
        "            if file_name.endswith(ext):\n",
        "                download_list.append((year, month, data_id, file_name, file_id,))"
      ],
      "metadata": {
        "id": "WhSld-UzAZ-K"
      },
      "execution_count": null,
      "outputs": []
    },
    {
      "cell_type": "code",
      "source": [
        "download_list[:5]"
      ],
      "metadata": {
        "id": "gyq5FCzcC8Q2"
      },
      "execution_count": null,
      "outputs": []
    },
    {
      "cell_type": "markdown",
      "source": [
        "## シーンのファイルをダウンロード"
      ],
      "metadata": {
        "id": "CgQ3tMwgkTNE"
      }
    },
    {
      "cell_type": "code",
      "source": [
        "download_urls = []\n",
        "\n",
        "for year, month, data_id, file_name, file_id, in download_list:\n",
        "    url = 'https://www.tellusxdp.com/api/traveler/v1/datasets/{}/data/{}/files/{}/download-url/'.format(DATASET_ID, data_id, file_id,)\n",
        "\n",
        "    query = {}\n",
        "    payloads = {\n",
        "        'query': query,\n",
        "    }\n",
        "\n",
        "    res = requests.post(url, headers=headers, data=json.dumps(payloads))\n",
        "\n",
        "    if 'download_url' in res.json():\n",
        "        url = res.json()['download_url']\n",
        "        print('Info : download_url : {} (year : {}, month : {}, data_id : {}, file_name : {}, file_id : {})'.format(url, year, month, data_id, file_name, file_id,))\n",
        "\n",
        "        download_urls.append((year, month, data_id, file_name, file_id, url,))\n",
        "    else:\n",
        "        print('Warning : download_url does not exist in response (year : {}, month : {}, data_id : {}, file_name : {}, file_id : {})'.format(year, month, data_id, file_name, file_id,))\n",
        "        print(res)\n",
        "        print(res.json())\n",
        "\n",
        "    time.sleep(API_SLEEP_SEC)"
      ],
      "metadata": {
        "id": "_RZFveseDC4O"
      },
      "execution_count": null,
      "outputs": []
    },
    {
      "cell_type": "code",
      "source": [
        "download_urls[:5]"
      ],
      "metadata": {
        "id": "AiOiBqB_kRFj"
      },
      "execution_count": null,
      "outputs": []
    },
    {
      "cell_type": "code",
      "source": [
        "for year, month, data_id, file_name, file_id, url, in download_urls:\n",
        "    download_dir = '{}/{}-{}'.format(dl_dir, year, month,)\n",
        "    download_file_path = '{}/{}'.format(download_dir, file_name,)\n",
        "\n",
        "    if not os.path.isdir(download_dir):\n",
        "        os.makedirs(download_dir)\n",
        "\n",
        "    print('download : {}'.format(download_file_path,))\n",
        "\n",
        "    download_res = requests.get(url, stream = True)\n",
        "\n",
        "    with open(download_file_path, 'wb') as f:\n",
        "        for chunk in download_res.iter_content(chunk_size=1024):\n",
        "            if chunk:\n",
        "                f.write(chunk)\n",
        "                f.flush()\n",
        "\n",
        "    time.sleep(API_SLEEP_SEC)"
      ],
      "metadata": {
        "id": "WpIkwqM8m1Yn"
      },
      "execution_count": null,
      "outputs": []
    },
    {
      "cell_type": "markdown",
      "source": [
        "## ダウンロードしたファイルをzip圧縮"
      ],
      "metadata": {
        "id": "5XoIBlxGrajA"
      }
    },
    {
      "cell_type": "code",
      "source": [
        "zip_file_name = '{}.zip'.format(dl_dir,)\n",
        "\n",
        "shutil.make_archive(dl_dir, format='zip', root_dir='.', base_dir=dl_dir,)"
      ],
      "metadata": {
        "id": "OYximi6ppc7X"
      },
      "execution_count": null,
      "outputs": []
    },
    {
      "cell_type": "code",
      "source": [
        "shutil.rmtree(dl_dir,)"
      ],
      "metadata": {
        "id": "ZijeZ0OobTrr"
      },
      "execution_count": null,
      "outputs": []
    },
    {
      "cell_type": "code",
      "source": [],
      "metadata": {
        "id": "NuRm9cfEbYwH"
      },
      "execution_count": null,
      "outputs": []
    }
  ]
}